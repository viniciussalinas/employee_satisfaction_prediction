{
  "nbformat": 4,
  "nbformat_minor": 0,
  "metadata": {
    "colab": {
      "name": "m4-algoritmos.ipynb",
      "provenance": [],
      "collapsed_sections": []
    },
    "kernelspec": {
      "name": "python3",
      "display_name": "Python 3"
    },
    "language_info": {
      "name": "python"
    }
  },
  "cells": [
    {
      "cell_type": "markdown",
      "metadata": {
        "id": "OLaEuKb5zsZt"
      },
      "source": [
        "**Grupo 11 - Algoritmos e Data Science**\n",
        "\n",
        "Emanuel Luz de Abreu<br>\n",
        "Leidiana de Carli<br>\n",
        "Lissandra Dutra<br>\n",
        "Vinícius Silva Salinas"
      ]
    },
    {
      "cell_type": "markdown",
      "metadata": {
        "id": "fO8szLLvzrGc"
      },
      "source": [
        "#### **Business Understanding**"
      ]
    },
    {
      "cell_type": "markdown",
      "metadata": {
        "id": "svY6gkfg0Po0"
      },
      "source": [
        "*Turnover* ou rotatividade de mão-de-obra em uma companhia é caracterizado pelo fluxo de entradas e saídas de pessoas em uma organização. Dependendo da taxa que este indicador representa, outros indicadores como grau de satisfação de funcionários, custos com admissão e demissão dos mesmos, treinamentos aplicados e até mesmo a satisfação de clientes tem seus resultados diretamente influenciados.  \n",
        "\n",
        "Através do website Kaggle (*https://www.kaggle.com/kmldas/hr-employee-data-descriptive-analytics*) foi obtido o dataset \"HR Employee Analytics\". Os atributos e registros presentes no mesmo serão analisados e utilizados em um **algoritmo de regressão** de forma a prever o nível de satisfação de colaboradores da empresa contemplatada mediante a variável alvo cujos valores vão de 0 (não satisfeitos) a 1 (satisfeitos)."
      ]
    },
    {
      "cell_type": "markdown",
      "metadata": {
        "id": "oHIybQ761f49"
      },
      "source": [
        "#### **Data Understanding**"
      ]
    },
    {
      "cell_type": "markdown",
      "metadata": {
        "id": "Edeo-nQH38F3"
      },
      "source": [
        "Os dados utilizados foram disponibilizados na plataforma Kaggle pelo usuário Kamal Das. A base refere-se a dados do setor de recursos humanos da empresa MNC e podem ser encontrados no link disponibilizado no tópico acima.\n",
        "\n",
        "A base é composta de 1 arquivo com 14599 registros e encontra-se no formato xlsx. Os dados estão distribuídos em 11 colunas, que correspondem a:\n",
        "\n",
        "**`Emp_Id`:** um código de identificação único atribuído a cada funcionário, composto de 3 letras e 5 números\n",
        "\n",
        "**`satisfaction_level`:** um número de 0 a 1 que expressa em porcentagem o nível de satisfação de cada funcionário, sendo 1 muito satisfeito e 0 insatisfeito\n",
        "\n",
        "**`last_evaluation`:** um número de 0 a 1 que expressa o tempo em anos desde a última avaliação\n",
        "\n",
        "**`number_project`:** o número de projetos em que um funcionário está trabalhando\n",
        "\n",
        "**`average_montly_hours`:** a média de horas trabalhadas nos últimos três meses\n",
        "\n",
        "**`time_spend_company`:** tempo que o funcionário leva se deslocando para o escritório em horas\n",
        "\n",
        "**`Work_accident`:** se o funcionário se envolveu em um acidente de trabalho, sendo 0 para não e 1 para sim\n",
        "\n",
        "**`left`:** se o funcionário já deixou a empresa, sendo 0 para não e 1 para sim\n",
        "\n",
        "**`promotion_last_5years`:** se o funcionário foi promovido nos últimos 5 anos, sendo 0 para não e 1 para sim\n",
        "\n",
        "**`Department`:** departamento em que o funcionários está trabalhando\n",
        "\n",
        "**`salary`:** salário categorizado em low, medium e high\n",
        "\n"
      ]
    },
    {
      "cell_type": "code",
      "metadata": {
        "id": "p21vmo0N4TAE"
      },
      "source": [
        "# Importação de bibliotecas\n",
        "import pandas as pd"
      ],
      "execution_count": null,
      "outputs": []
    },
    {
      "cell_type": "code",
      "metadata": {
        "id": "ALUIsKGj4mag"
      },
      "source": [
        "# Leitura dos dados\n",
        "dados = pd.read_excel ('HR_Employee_Data.xlsx')"
      ],
      "execution_count": null,
      "outputs": []
    },
    {
      "cell_type": "markdown",
      "metadata": {
        "id": "bP1ZGF_pHeP6"
      },
      "source": [
        "**Explorando os dados**"
      ]
    },
    {
      "cell_type": "code",
      "metadata": {
        "colab": {
          "base_uri": "https://localhost:8080/"
        },
        "id": "tKb7-plK2Imp",
        "outputId": "960366a9-b85d-42cd-f4ed-3e36bbf54389"
      },
      "source": [
        "# Verificando os tipos de dados\n",
        "dados.dtypes"
      ],
      "execution_count": null,
      "outputs": [
        {
          "output_type": "execute_result",
          "data": {
            "text/plain": [
              "Emp_Id                    object\n",
              "satisfaction_level       float64\n",
              "last_evaluation          float64\n",
              "number_project             int64\n",
              "average_montly_hours       int64\n",
              "time_spend_company         int64\n",
              "Work_accident              int64\n",
              "left                       int64\n",
              "promotion_last_5years      int64\n",
              "Department                object\n",
              "salary                    object\n",
              "dtype: object"
            ]
          },
          "metadata": {
            "tags": []
          },
          "execution_count": 7
        }
      ]
    },
    {
      "cell_type": "code",
      "metadata": {
        "colab": {
          "base_uri": "https://localhost:8080/"
        },
        "id": "W2hcbh7ECTNh",
        "outputId": "c2412b43-88e0-40ce-dc65-03fff563d5db"
      },
      "source": [
        "# Quantidade de linhas e colunas\n",
        "dados.shape"
      ],
      "execution_count": null,
      "outputs": [
        {
          "output_type": "execute_result",
          "data": {
            "text/plain": [
              "(14999, 11)"
            ]
          },
          "metadata": {
            "tags": []
          },
          "execution_count": 4
        }
      ]
    },
    {
      "cell_type": "code",
      "metadata": {
        "colab": {
          "base_uri": "https://localhost:8080/"
        },
        "id": "iezwbCOLDlqv",
        "outputId": "c3048b8e-afb9-4941-ee3f-676130ce8820"
      },
      "source": [
        "# Resumo estatítico dos dados\n",
        "print(dados.describe())"
      ],
      "execution_count": null,
      "outputs": [
        {
          "output_type": "stream",
          "text": [
            "       satisfaction_level  last_evaluation  ...          left  promotion_last_5years\n",
            "count        14999.000000     14999.000000  ...  14999.000000           14999.000000\n",
            "mean             0.612834         0.716102  ...      0.238083               0.021268\n",
            "std              0.248631         0.171169  ...      0.425924               0.144281\n",
            "min              0.090000         0.360000  ...      0.000000               0.000000\n",
            "25%              0.440000         0.560000  ...      0.000000               0.000000\n",
            "50%              0.640000         0.720000  ...      0.000000               0.000000\n",
            "75%              0.820000         0.870000  ...      0.000000               0.000000\n",
            "max              1.000000         1.000000  ...      1.000000               1.000000\n",
            "\n",
            "[8 rows x 8 columns]\n"
          ],
          "name": "stdout"
        }
      ]
    },
    {
      "cell_type": "code",
      "metadata": {
        "id": "FfqEBF2RAjoT",
        "colab": {
          "base_uri": "https://localhost:8080/"
        },
        "outputId": "32cd1a6e-8dba-494c-d7ff-ee7d0ee38952"
      },
      "source": [
        "# Média do grau de satisfação\n",
        "dados[\"satisfaction_level\"].mean()"
      ],
      "execution_count": null,
      "outputs": [
        {
          "output_type": "execute_result",
          "data": {
            "text/plain": [
              "0.6128335222348166"
            ]
          },
          "metadata": {
            "tags": []
          },
          "execution_count": 6
        }
      ]
    },
    {
      "cell_type": "code",
      "metadata": {
        "colab": {
          "base_uri": "https://localhost:8080/"
        },
        "id": "mbPCwPZaHPU_",
        "outputId": "e046f4f9-68aa-41e2-a656-1db2b1ba21d4"
      },
      "source": [
        "# Menor grau de satisfação\n",
        "dados[\"satisfaction_level\"].min()"
      ],
      "execution_count": null,
      "outputs": [
        {
          "output_type": "execute_result",
          "data": {
            "text/plain": [
              "0.09"
            ]
          },
          "metadata": {
            "tags": []
          },
          "execution_count": 7
        }
      ]
    },
    {
      "cell_type": "code",
      "metadata": {
        "colab": {
          "base_uri": "https://localhost:8080/"
        },
        "id": "hptVNnwAHV99",
        "outputId": "1d3ce776-c85a-4b2e-a0e5-747cc25dad28"
      },
      "source": [
        "# Maior grau de satisfação\n",
        "dados[\"satisfaction_level\"].max()"
      ],
      "execution_count": null,
      "outputs": [
        {
          "output_type": "execute_result",
          "data": {
            "text/plain": [
              "1.0"
            ]
          },
          "metadata": {
            "tags": []
          },
          "execution_count": 8
        }
      ]
    },
    {
      "cell_type": "code",
      "metadata": {
        "colab": {
          "base_uri": "https://localhost:8080/"
        },
        "id": "d5cV_3f9Q23O",
        "outputId": "062cd30a-0c7f-4918-fd61-96c7b93f23a5"
      },
      "source": [
        "# Desvio padrão dos valores de grau de satisfação\n",
        "dados[\"satisfaction_level\"].std()"
      ],
      "execution_count": null,
      "outputs": [
        {
          "output_type": "execute_result",
          "data": {
            "text/plain": [
              "0.2486306510611418"
            ]
          },
          "metadata": {
            "tags": []
          },
          "execution_count": 12
        }
      ]
    },
    {
      "cell_type": "code",
      "metadata": {
        "colab": {
          "base_uri": "https://localhost:8080/"
        },
        "id": "TH_-6q27Ers_",
        "outputId": "ba79765b-9c0d-4398-973f-27672830660b"
      },
      "source": [
        "# Média de tempo desde a última avaliação\n",
        "dados[\"last_evaluation\"].mean()"
      ],
      "execution_count": null,
      "outputs": [
        {
          "output_type": "execute_result",
          "data": {
            "text/plain": [
              "0.7161017401159978"
            ]
          },
          "metadata": {
            "tags": []
          },
          "execution_count": 10
        }
      ]
    },
    {
      "cell_type": "code",
      "metadata": {
        "colab": {
          "base_uri": "https://localhost:8080/"
        },
        "id": "qtq787JgLc6b",
        "outputId": "3e477988-f987-46b1-d6d7-d08b1bccb419"
      },
      "source": [
        "# Verificando o número de promoções nos últimos 5 anos\n",
        "dados[\"promotion_last_5years\"].sum()"
      ],
      "execution_count": null,
      "outputs": [
        {
          "output_type": "execute_result",
          "data": {
            "text/plain": [
              "319"
            ]
          },
          "metadata": {
            "tags": []
          },
          "execution_count": 11
        }
      ]
    },
    {
      "cell_type": "code",
      "metadata": {
        "colab": {
          "base_uri": "https://localhost:8080/",
          "height": 204
        },
        "id": "uq9M_pujOSCH",
        "outputId": "9b5881e7-5548-4862-da0b-44d10a2e405e"
      },
      "source": [
        "# Análise de correlações entre variáveis \n",
        "pd.crosstab(dados[\"salary\"],dados[\"promotion_last_5years\"],margins=True)"
      ],
      "execution_count": null,
      "outputs": [
        {
          "output_type": "execute_result",
          "data": {
            "text/html": [
              "<div>\n",
              "<style scoped>\n",
              "    .dataframe tbody tr th:only-of-type {\n",
              "        vertical-align: middle;\n",
              "    }\n",
              "\n",
              "    .dataframe tbody tr th {\n",
              "        vertical-align: top;\n",
              "    }\n",
              "\n",
              "    .dataframe thead th {\n",
              "        text-align: right;\n",
              "    }\n",
              "</style>\n",
              "<table border=\"1\" class=\"dataframe\">\n",
              "  <thead>\n",
              "    <tr style=\"text-align: right;\">\n",
              "      <th>promotion_last_5years</th>\n",
              "      <th>0</th>\n",
              "      <th>1</th>\n",
              "      <th>All</th>\n",
              "    </tr>\n",
              "    <tr>\n",
              "      <th>salary</th>\n",
              "      <th></th>\n",
              "      <th></th>\n",
              "      <th></th>\n",
              "    </tr>\n",
              "  </thead>\n",
              "  <tbody>\n",
              "    <tr>\n",
              "      <th>high</th>\n",
              "      <td>1165</td>\n",
              "      <td>72</td>\n",
              "      <td>1237</td>\n",
              "    </tr>\n",
              "    <tr>\n",
              "      <th>low</th>\n",
              "      <td>7250</td>\n",
              "      <td>66</td>\n",
              "      <td>7316</td>\n",
              "    </tr>\n",
              "    <tr>\n",
              "      <th>medium</th>\n",
              "      <td>6265</td>\n",
              "      <td>181</td>\n",
              "      <td>6446</td>\n",
              "    </tr>\n",
              "    <tr>\n",
              "      <th>All</th>\n",
              "      <td>14680</td>\n",
              "      <td>319</td>\n",
              "      <td>14999</td>\n",
              "    </tr>\n",
              "  </tbody>\n",
              "</table>\n",
              "</div>"
            ],
            "text/plain": [
              "promotion_last_5years      0    1    All\n",
              "salary                                  \n",
              "high                    1165   72   1237\n",
              "low                     7250   66   7316\n",
              "medium                  6265  181   6446\n",
              "All                    14680  319  14999"
            ]
          },
          "metadata": {
            "tags": []
          },
          "execution_count": 13
        }
      ]
    },
    {
      "cell_type": "code",
      "metadata": {
        "colab": {
          "base_uri": "https://localhost:8080/",
          "height": 297
        },
        "id": "UrLZl66xOtOO",
        "outputId": "225e1750-aa63-42c3-ca6d-99735e41eb5b"
      },
      "source": [
        "# Análise de correlações entre variáveis \n",
        "pd.crosstab(dados[\"number_project\"],dados[\"promotion_last_5years\"],margins=True)"
      ],
      "execution_count": null,
      "outputs": [
        {
          "output_type": "execute_result",
          "data": {
            "text/html": [
              "<div>\n",
              "<style scoped>\n",
              "    .dataframe tbody tr th:only-of-type {\n",
              "        vertical-align: middle;\n",
              "    }\n",
              "\n",
              "    .dataframe tbody tr th {\n",
              "        vertical-align: top;\n",
              "    }\n",
              "\n",
              "    .dataframe thead th {\n",
              "        text-align: right;\n",
              "    }\n",
              "</style>\n",
              "<table border=\"1\" class=\"dataframe\">\n",
              "  <thead>\n",
              "    <tr style=\"text-align: right;\">\n",
              "      <th>promotion_last_5years</th>\n",
              "      <th>0</th>\n",
              "      <th>1</th>\n",
              "      <th>All</th>\n",
              "    </tr>\n",
              "    <tr>\n",
              "      <th>number_project</th>\n",
              "      <th></th>\n",
              "      <th></th>\n",
              "      <th></th>\n",
              "    </tr>\n",
              "  </thead>\n",
              "  <tbody>\n",
              "    <tr>\n",
              "      <th>2</th>\n",
              "      <td>2351</td>\n",
              "      <td>37</td>\n",
              "      <td>2388</td>\n",
              "    </tr>\n",
              "    <tr>\n",
              "      <th>3</th>\n",
              "      <td>3960</td>\n",
              "      <td>95</td>\n",
              "      <td>4055</td>\n",
              "    </tr>\n",
              "    <tr>\n",
              "      <th>4</th>\n",
              "      <td>4248</td>\n",
              "      <td>117</td>\n",
              "      <td>4365</td>\n",
              "    </tr>\n",
              "    <tr>\n",
              "      <th>5</th>\n",
              "      <td>2711</td>\n",
              "      <td>50</td>\n",
              "      <td>2761</td>\n",
              "    </tr>\n",
              "    <tr>\n",
              "      <th>6</th>\n",
              "      <td>1154</td>\n",
              "      <td>20</td>\n",
              "      <td>1174</td>\n",
              "    </tr>\n",
              "    <tr>\n",
              "      <th>7</th>\n",
              "      <td>256</td>\n",
              "      <td>0</td>\n",
              "      <td>256</td>\n",
              "    </tr>\n",
              "    <tr>\n",
              "      <th>All</th>\n",
              "      <td>14680</td>\n",
              "      <td>319</td>\n",
              "      <td>14999</td>\n",
              "    </tr>\n",
              "  </tbody>\n",
              "</table>\n",
              "</div>"
            ],
            "text/plain": [
              "promotion_last_5years      0    1    All\n",
              "number_project                          \n",
              "2                       2351   37   2388\n",
              "3                       3960   95   4055\n",
              "4                       4248  117   4365\n",
              "5                       2711   50   2761\n",
              "6                       1154   20   1174\n",
              "7                        256    0    256\n",
              "All                    14680  319  14999"
            ]
          },
          "metadata": {
            "tags": []
          },
          "execution_count": 14
        }
      ]
    },
    {
      "cell_type": "markdown",
      "metadata": {
        "id": "LDmZAhpoA6l7"
      },
      "source": [
        "**Qualidade dos dados**"
      ]
    },
    {
      "cell_type": "code",
      "metadata": {
        "id": "BGSeq3iLAxmD",
        "colab": {
          "base_uri": "https://localhost:8080/"
        },
        "outputId": "286e022c-deab-4711-ccac-e3b502ac8b67"
      },
      "source": [
        "# Verificando se há campos nulos\n",
        "dados.isnull().sum()"
      ],
      "execution_count": null,
      "outputs": [
        {
          "output_type": "execute_result",
          "data": {
            "text/plain": [
              "Emp_Id                   0\n",
              "satisfaction_level       0\n",
              "last_evaluation          0\n",
              "number_project           0\n",
              "average_montly_hours     0\n",
              "time_spend_company       0\n",
              "Work_accident            0\n",
              "left                     0\n",
              "promotion_last_5years    0\n",
              "Department               0\n",
              "salary                   0\n",
              "dtype: int64"
            ]
          },
          "metadata": {
            "tags": []
          },
          "execution_count": 15
        }
      ]
    },
    {
      "cell_type": "code",
      "metadata": {
        "colab": {
          "base_uri": "https://localhost:8080/"
        },
        "id": "Qhze-EnGf8PD",
        "outputId": "dd1a78a3-f915-4d91-a0c1-b23737fbe849"
      },
      "source": [
        "# Importação de mais bibliotecas\n",
        "!pip install seaborn --upgrade\n",
        "import seaborn as sns\n",
        "import numpy as np"
      ],
      "execution_count": null,
      "outputs": [
        {
          "output_type": "stream",
          "text": [
            "Requirement already up-to-date: seaborn in /usr/local/lib/python3.7/dist-packages (0.11.1)\n",
            "Requirement already satisfied, skipping upgrade: pandas>=0.23 in /usr/local/lib/python3.7/dist-packages (from seaborn) (1.1.5)\n",
            "Requirement already satisfied, skipping upgrade: scipy>=1.0 in /usr/local/lib/python3.7/dist-packages (from seaborn) (1.4.1)\n",
            "Requirement already satisfied, skipping upgrade: matplotlib>=2.2 in /usr/local/lib/python3.7/dist-packages (from seaborn) (3.2.2)\n",
            "Requirement already satisfied, skipping upgrade: numpy>=1.15 in /usr/local/lib/python3.7/dist-packages (from seaborn) (1.19.5)\n",
            "Requirement already satisfied, skipping upgrade: python-dateutil>=2.7.3 in /usr/local/lib/python3.7/dist-packages (from pandas>=0.23->seaborn) (2.8.1)\n",
            "Requirement already satisfied, skipping upgrade: pytz>=2017.2 in /usr/local/lib/python3.7/dist-packages (from pandas>=0.23->seaborn) (2018.9)\n",
            "Requirement already satisfied, skipping upgrade: pyparsing!=2.0.4,!=2.1.2,!=2.1.6,>=2.0.1 in /usr/local/lib/python3.7/dist-packages (from matplotlib>=2.2->seaborn) (2.4.7)\n",
            "Requirement already satisfied, skipping upgrade: kiwisolver>=1.0.1 in /usr/local/lib/python3.7/dist-packages (from matplotlib>=2.2->seaborn) (1.3.1)\n",
            "Requirement already satisfied, skipping upgrade: cycler>=0.10 in /usr/local/lib/python3.7/dist-packages (from matplotlib>=2.2->seaborn) (0.10.0)\n",
            "Requirement already satisfied, skipping upgrade: six>=1.5 in /usr/local/lib/python3.7/dist-packages (from python-dateutil>=2.7.3->pandas>=0.23->seaborn) (1.15.0)\n"
          ],
          "name": "stdout"
        }
      ]
    },
    {
      "cell_type": "code",
      "metadata": {
        "colab": {
          "base_uri": "https://localhost:8080/",
          "height": 390
        },
        "id": "qB4ehA5hgv71",
        "outputId": "3e6c4a6b-26bd-4686-87a8-7837328371b6"
      },
      "source": [
        "# Análise de Correlação por Mapa de Calor\n",
        "\n",
        "sns.heatmap(dados.corr(), annot=True, vmin=-1, vmax=1, cmap='coolwarm')"
      ],
      "execution_count": null,
      "outputs": [
        {
          "output_type": "execute_result",
          "data": {
            "text/plain": [
              "<matplotlib.axes._subplots.AxesSubplot at 0x7f4186873b50>"
            ]
          },
          "metadata": {
            "tags": []
          },
          "execution_count": 21
        },
        {
          "output_type": "display_data",
          "data": {
            "image/png": "[encoded data removed]",
            "text/plain": [
              "<Figure size 432x288 with 2 Axes>"
            ]
          },
          "metadata": {
            "tags": [],
            "needs_background": "light"
          }
        }
      ]
    },
    {
      "cell_type": "code",
      "metadata": {
        "colab": {
          "base_uri": "https://localhost:8080/"
        },
        "id": "cnqN-UemzFMa",
        "outputId": "5b036c0f-7396-4fc8-cf08-18f5d066a5f1"
      },
      "source": [
        "# Correlação pelo coeficiente de Pearson da Satisfação VS Promoção nos Últimos 5 Anos\n",
        "\n",
        "satisfaction = dados[\"satisfaction_level\"]\n",
        "promotion = dados[\"promotion_last_5years\"]\n",
        "correlation_A = satisfaction. corr(promotion)\n",
        "print(correlation_A)"
      ],
      "execution_count": null,
      "outputs": [
        {
          "output_type": "stream",
          "text": [
            "0.025605185709040166\n"
          ],
          "name": "stdout"
        }
      ]
    },
    {
      "cell_type": "code",
      "metadata": {
        "colab": {
          "base_uri": "https://localhost:8080/"
        },
        "id": "CQgtRrht1RA9",
        "outputId": "20a8b9c2-458e-4c84-a1a3-65344e37f205"
      },
      "source": [
        "# Correlação pelo coeficiente de Pearson da Satisfação VS Número de Projetos\n",
        "numero_projetos = dados[\"number_project\"]\n",
        "satisfaction = dados[\"satisfaction_level\"]\n",
        "correlation_B = numero_projetos. corr(satisfaction)\n",
        "print(correlation_B)\n"
      ],
      "execution_count": null,
      "outputs": [
        {
          "output_type": "stream",
          "text": [
            "-0.14296958603689963\n"
          ],
          "name": "stdout"
        }
      ]
    },
    {
      "cell_type": "markdown",
      "metadata": {
        "id": "DcDD4HlK1gCn"
      },
      "source": [
        "#### **Data Preparation**"
      ]
    },
    {
      "cell_type": "code",
      "metadata": {
        "id": "TgNinmTS1JOV"
      },
      "source": [
        "# Remoção de uma das colunas, que atrapalhará o desenvolvimento do modelo de regressão, e é desnecessária para as análises\n",
        "dados = dados.drop(columns=['Emp_Id'])"
      ],
      "execution_count": null,
      "outputs": []
    },
    {
      "cell_type": "code",
      "metadata": {
        "id": "fss3NMGw2CV6",
        "colab": {
          "base_uri": "https://localhost:8080/"
        },
        "outputId": "156c3a09-05bf-4910-f082-2d78700e87cd"
      },
      "source": [
        "# Padronização dos nomes das colunas e alteração do tipo de duas variáveis qualitativas para 'category'\n",
        "dados = dados.rename(columns = {'Work_accident':'work_accident','Department':'department'})\n",
        "dados['department'] = dados['department'].astype('category')\n",
        "dados['salary'] = dados['salary'].astype('category')\n",
        "dados.dtypes"
      ],
      "execution_count": null,
      "outputs": [
        {
          "output_type": "execute_result",
          "data": {
            "text/plain": [
              "satisfaction_level        float64\n",
              "last_evaluation           float64\n",
              "number_project              int64\n",
              "average_montly_hours        int64\n",
              "time_spend_company          int64\n",
              "work_accident               int64\n",
              "left                        int64\n",
              "promotion_last_5years       int64\n",
              "department               category\n",
              "salary                   category\n",
              "dtype: object"
            ]
          },
          "metadata": {
            "tags": []
          },
          "execution_count": 31
        }
      ]
    },
    {
      "cell_type": "code",
      "metadata": {
        "id": "8vGnNG4v1eHh",
        "colab": {
          "base_uri": "https://localhost:8080/",
          "height": 224
        },
        "outputId": "840716c8-c81d-4cf9-fbc7-4e860430bbb6"
      },
      "source": [
        "# Visualização dos dados tratados\n",
        "dados.head()"
      ],
      "execution_count": null,
      "outputs": [
        {
          "output_type": "execute_result",
          "data": {
            "text/html": [
              "<div>\n",
              "<style scoped>\n",
              "    .dataframe tbody tr th:only-of-type {\n",
              "        vertical-align: middle;\n",
              "    }\n",
              "\n",
              "    .dataframe tbody tr th {\n",
              "        vertical-align: top;\n",
              "    }\n",
              "\n",
              "    .dataframe thead th {\n",
              "        text-align: right;\n",
              "    }\n",
              "</style>\n",
              "<table border=\"1\" class=\"dataframe\">\n",
              "  <thead>\n",
              "    <tr style=\"text-align: right;\">\n",
              "      <th></th>\n",
              "      <th>satisfaction_level</th>\n",
              "      <th>last_evaluation</th>\n",
              "      <th>number_project</th>\n",
              "      <th>average_montly_hours</th>\n",
              "      <th>time_spend_company</th>\n",
              "      <th>work_accident</th>\n",
              "      <th>left</th>\n",
              "      <th>promotion_last_5years</th>\n",
              "      <th>department</th>\n",
              "      <th>salary</th>\n",
              "    </tr>\n",
              "  </thead>\n",
              "  <tbody>\n",
              "    <tr>\n",
              "      <th>0</th>\n",
              "      <td>0.38</td>\n",
              "      <td>0.53</td>\n",
              "      <td>2</td>\n",
              "      <td>157</td>\n",
              "      <td>3</td>\n",
              "      <td>0</td>\n",
              "      <td>1</td>\n",
              "      <td>0</td>\n",
              "      <td>sales</td>\n",
              "      <td>low</td>\n",
              "    </tr>\n",
              "    <tr>\n",
              "      <th>1</th>\n",
              "      <td>0.80</td>\n",
              "      <td>0.86</td>\n",
              "      <td>5</td>\n",
              "      <td>262</td>\n",
              "      <td>6</td>\n",
              "      <td>0</td>\n",
              "      <td>1</td>\n",
              "      <td>0</td>\n",
              "      <td>sales</td>\n",
              "      <td>medium</td>\n",
              "    </tr>\n",
              "    <tr>\n",
              "      <th>2</th>\n",
              "      <td>0.11</td>\n",
              "      <td>0.88</td>\n",
              "      <td>7</td>\n",
              "      <td>272</td>\n",
              "      <td>4</td>\n",
              "      <td>0</td>\n",
              "      <td>1</td>\n",
              "      <td>0</td>\n",
              "      <td>sales</td>\n",
              "      <td>medium</td>\n",
              "    </tr>\n",
              "    <tr>\n",
              "      <th>3</th>\n",
              "      <td>0.72</td>\n",
              "      <td>0.87</td>\n",
              "      <td>5</td>\n",
              "      <td>223</td>\n",
              "      <td>5</td>\n",
              "      <td>0</td>\n",
              "      <td>1</td>\n",
              "      <td>0</td>\n",
              "      <td>sales</td>\n",
              "      <td>low</td>\n",
              "    </tr>\n",
              "    <tr>\n",
              "      <th>4</th>\n",
              "      <td>0.37</td>\n",
              "      <td>0.52</td>\n",
              "      <td>2</td>\n",
              "      <td>159</td>\n",
              "      <td>3</td>\n",
              "      <td>0</td>\n",
              "      <td>1</td>\n",
              "      <td>0</td>\n",
              "      <td>sales</td>\n",
              "      <td>low</td>\n",
              "    </tr>\n",
              "  </tbody>\n",
              "</table>\n",
              "</div>"
            ],
            "text/plain": [
              "   satisfaction_level  last_evaluation  ...  department  salary\n",
              "0                0.38             0.53  ...       sales     low\n",
              "1                0.80             0.86  ...       sales  medium\n",
              "2                0.11             0.88  ...       sales  medium\n",
              "3                0.72             0.87  ...       sales     low\n",
              "4                0.37             0.52  ...       sales     low\n",
              "\n",
              "[5 rows x 10 columns]"
            ]
          },
          "metadata": {
            "tags": []
          },
          "execution_count": 32
        }
      ]
    },
    {
      "cell_type": "code",
      "metadata": {
        "id": "KooVcpBxt6y7",
        "colab": {
          "base_uri": "https://localhost:8080/"
        },
        "outputId": "59b5efba-0876-420a-95bb-8af00dedb3b1"
      },
      "source": [
        "# Entendendo variáveis dummies\n",
        "dados['salary'].value_counts()"
      ],
      "execution_count": null,
      "outputs": [
        {
          "output_type": "execute_result",
          "data": {
            "text/plain": [
              "low       7316\n",
              "medium    6446\n",
              "high      1237\n",
              "Name: salary, dtype: int64"
            ]
          },
          "metadata": {
            "tags": []
          },
          "execution_count": 34
        }
      ]
    },
    {
      "cell_type": "code",
      "metadata": {
        "id": "0vFxNDlbt7l3",
        "colab": {
          "base_uri": "https://localhost:8080/"
        },
        "outputId": "4d46cffa-7282-4ceb-83d2-c9aff8dffe88"
      },
      "source": [
        "# Entendendo variáveis dummies\n",
        "dados['department'].value_counts()"
      ],
      "execution_count": null,
      "outputs": [
        {
          "output_type": "execute_result",
          "data": {
            "text/plain": [
              "sales          4140\n",
              "technical      2720\n",
              "support        2229\n",
              "IT             1227\n",
              "product_mng     902\n",
              "marketing       858\n",
              "RandD           787\n",
              "accounting      767\n",
              "hr              739\n",
              "management      630\n",
              "Name: department, dtype: int64"
            ]
          },
          "metadata": {
            "tags": []
          },
          "execution_count": 33
        }
      ]
    },
    {
      "cell_type": "markdown",
      "metadata": {
        "id": "UccFGMvbuAJj"
      },
      "source": [
        "#### **One Hot Encoder**<br>\n",
        "Necessário para uso da variável qualitativa nominal `department` no modelo"
      ]
    },
    {
      "cell_type": "code",
      "metadata": {
        "id": "be46moe3uCNn",
        "colab": {
          "base_uri": "https://localhost:8080/"
        },
        "outputId": "8a237a19-0b4c-4dc9-940d-2a08c6dc8abf"
      },
      "source": [
        "# Instalação de um módulo a ser utilizado\n",
        "!pip install category_encoders"
      ],
      "execution_count": null,
      "outputs": [
        {
          "output_type": "stream",
          "text": [
            "Collecting category_encoders\n",
            "\u001b[?25l  Downloading https://files.pythonhosted.org/packages/44/57/fcef41c248701ee62e8325026b90c432adea35555cbc870aff9cfba23727/category_encoders-2.2.2-py2.py3-none-any.whl (80kB)\n",
            "\r\u001b[K     |████                            | 10kB 16.3MB/s eta 0:00:01\r\u001b[K     |████████▏                       | 20kB 24.6MB/s eta 0:00:01\r\u001b[K     |████████████▏                   | 30kB 31.2MB/s eta 0:00:01\r\u001b[K     |████████████████▎               | 40kB 20.6MB/s eta 0:00:01\r\u001b[K     |████████████████████▎           | 51kB 16.1MB/s eta 0:00:01\r\u001b[K     |████████████████████████▍       | 61kB 12.3MB/s eta 0:00:01\r\u001b[K     |████████████████████████████▍   | 71kB 11.4MB/s eta 0:00:01\r\u001b[K     |████████████████████████████████| 81kB 4.1MB/s \n",
            "\u001b[?25hRequirement already satisfied: scipy>=1.0.0 in /usr/local/lib/python3.7/dist-packages (from category_encoders) (1.4.1)\n",
            "Requirement already satisfied: patsy>=0.5.1 in /usr/local/lib/python3.7/dist-packages (from category_encoders) (0.5.1)\n",
            "Requirement already satisfied: statsmodels>=0.9.0 in /usr/local/lib/python3.7/dist-packages (from category_encoders) (0.10.2)\n",
            "Requirement already satisfied: pandas>=0.21.1 in /usr/local/lib/python3.7/dist-packages (from category_encoders) (1.1.5)\n",
            "Requirement already satisfied: numpy>=1.14.0 in /usr/local/lib/python3.7/dist-packages (from category_encoders) (1.19.5)\n",
            "Requirement already satisfied: scikit-learn>=0.20.0 in /usr/local/lib/python3.7/dist-packages (from category_encoders) (0.22.2.post1)\n",
            "Requirement already satisfied: six in /usr/local/lib/python3.7/dist-packages (from patsy>=0.5.1->category_encoders) (1.15.0)\n",
            "Requirement already satisfied: pytz>=2017.2 in /usr/local/lib/python3.7/dist-packages (from pandas>=0.21.1->category_encoders) (2018.9)\n",
            "Requirement already satisfied: python-dateutil>=2.7.3 in /usr/local/lib/python3.7/dist-packages (from pandas>=0.21.1->category_encoders) (2.8.1)\n",
            "Requirement already satisfied: joblib>=0.11 in /usr/local/lib/python3.7/dist-packages (from scikit-learn>=0.20.0->category_encoders) (1.0.1)\n",
            "Installing collected packages: category-encoders\n",
            "Successfully installed category-encoders-2.2.2\n"
          ],
          "name": "stdout"
        }
      ]
    },
    {
      "cell_type": "code",
      "metadata": {
        "id": "B2NNF7UAuGKS",
        "colab": {
          "base_uri": "https://localhost:8080/"
        },
        "outputId": "fb6600b7-36cb-41f3-9677-f809cf4c5942"
      },
      "source": [
        "# Transformando a coluna department\n",
        "from category_encoders.one_hot import OneHotEncoder\n",
        "enc = OneHotEncoder(cols=['department'], use_cat_names=True)\n",
        "dados = enc.fit_transform(dados)"
      ],
      "execution_count": null,
      "outputs": [
        {
          "output_type": "stream",
          "text": [
            "/usr/local/lib/python3.7/dist-packages/statsmodels/tools/_testing.py:19: FutureWarning: pandas.util.testing is deprecated. Use the functions in the public API at pandas.testing instead.\n",
            "  import pandas.util.testing as tm\n",
            "/usr/local/lib/python3.7/dist-packages/category_encoders/utils.py:21: FutureWarning: is_categorical is deprecated and will be removed in a future version.  Use is_categorical_dtype instead\n",
            "  elif pd.api.types.is_categorical(cols):\n"
          ],
          "name": "stderr"
        }
      ]
    },
    {
      "cell_type": "code",
      "metadata": {
        "colab": {
          "base_uri": "https://localhost:8080/",
          "height": 224
        },
        "id": "M1hQycBR9YGE",
        "outputId": "0b0408f9-6510-4350-85c0-1c4ad629bff6"
      },
      "source": [
        "# Visualizando o resultado\n",
        "dados.head()"
      ],
      "execution_count": null,
      "outputs": [
        {
          "output_type": "execute_result",
          "data": {
            "text/html": [
              "<div>\n",
              "<style scoped>\n",
              "    .dataframe tbody tr th:only-of-type {\n",
              "        vertical-align: middle;\n",
              "    }\n",
              "\n",
              "    .dataframe tbody tr th {\n",
              "        vertical-align: top;\n",
              "    }\n",
              "\n",
              "    .dataframe thead th {\n",
              "        text-align: right;\n",
              "    }\n",
              "</style>\n",
              "<table border=\"1\" class=\"dataframe\">\n",
              "  <thead>\n",
              "    <tr style=\"text-align: right;\">\n",
              "      <th></th>\n",
              "      <th>satisfaction_level</th>\n",
              "      <th>last_evaluation</th>\n",
              "      <th>number_project</th>\n",
              "      <th>average_montly_hours</th>\n",
              "      <th>time_spend_company</th>\n",
              "      <th>work_accident</th>\n",
              "      <th>left</th>\n",
              "      <th>promotion_last_5years</th>\n",
              "      <th>department_sales</th>\n",
              "      <th>department_accounting</th>\n",
              "      <th>department_hr</th>\n",
              "      <th>department_technical</th>\n",
              "      <th>department_support</th>\n",
              "      <th>department_management</th>\n",
              "      <th>department_IT</th>\n",
              "      <th>department_product_mng</th>\n",
              "      <th>department_marketing</th>\n",
              "      <th>department_RandD</th>\n",
              "      <th>salary</th>\n",
              "    </tr>\n",
              "  </thead>\n",
              "  <tbody>\n",
              "    <tr>\n",
              "      <th>0</th>\n",
              "      <td>0.38</td>\n",
              "      <td>0.53</td>\n",
              "      <td>2</td>\n",
              "      <td>157</td>\n",
              "      <td>3</td>\n",
              "      <td>0</td>\n",
              "      <td>1</td>\n",
              "      <td>0</td>\n",
              "      <td>1</td>\n",
              "      <td>0</td>\n",
              "      <td>0</td>\n",
              "      <td>0</td>\n",
              "      <td>0</td>\n",
              "      <td>0</td>\n",
              "      <td>0</td>\n",
              "      <td>0</td>\n",
              "      <td>0</td>\n",
              "      <td>0</td>\n",
              "      <td>low</td>\n",
              "    </tr>\n",
              "    <tr>\n",
              "      <th>1</th>\n",
              "      <td>0.80</td>\n",
              "      <td>0.86</td>\n",
              "      <td>5</td>\n",
              "      <td>262</td>\n",
              "      <td>6</td>\n",
              "      <td>0</td>\n",
              "      <td>1</td>\n",
              "      <td>0</td>\n",
              "      <td>1</td>\n",
              "      <td>0</td>\n",
              "      <td>0</td>\n",
              "      <td>0</td>\n",
              "      <td>0</td>\n",
              "      <td>0</td>\n",
              "      <td>0</td>\n",
              "      <td>0</td>\n",
              "      <td>0</td>\n",
              "      <td>0</td>\n",
              "      <td>medium</td>\n",
              "    </tr>\n",
              "    <tr>\n",
              "      <th>2</th>\n",
              "      <td>0.11</td>\n",
              "      <td>0.88</td>\n",
              "      <td>7</td>\n",
              "      <td>272</td>\n",
              "      <td>4</td>\n",
              "      <td>0</td>\n",
              "      <td>1</td>\n",
              "      <td>0</td>\n",
              "      <td>1</td>\n",
              "      <td>0</td>\n",
              "      <td>0</td>\n",
              "      <td>0</td>\n",
              "      <td>0</td>\n",
              "      <td>0</td>\n",
              "      <td>0</td>\n",
              "      <td>0</td>\n",
              "      <td>0</td>\n",
              "      <td>0</td>\n",
              "      <td>medium</td>\n",
              "    </tr>\n",
              "    <tr>\n",
              "      <th>3</th>\n",
              "      <td>0.72</td>\n",
              "      <td>0.87</td>\n",
              "      <td>5</td>\n",
              "      <td>223</td>\n",
              "      <td>5</td>\n",
              "      <td>0</td>\n",
              "      <td>1</td>\n",
              "      <td>0</td>\n",
              "      <td>1</td>\n",
              "      <td>0</td>\n",
              "      <td>0</td>\n",
              "      <td>0</td>\n",
              "      <td>0</td>\n",
              "      <td>0</td>\n",
              "      <td>0</td>\n",
              "      <td>0</td>\n",
              "      <td>0</td>\n",
              "      <td>0</td>\n",
              "      <td>low</td>\n",
              "    </tr>\n",
              "    <tr>\n",
              "      <th>4</th>\n",
              "      <td>0.37</td>\n",
              "      <td>0.52</td>\n",
              "      <td>2</td>\n",
              "      <td>159</td>\n",
              "      <td>3</td>\n",
              "      <td>0</td>\n",
              "      <td>1</td>\n",
              "      <td>0</td>\n",
              "      <td>1</td>\n",
              "      <td>0</td>\n",
              "      <td>0</td>\n",
              "      <td>0</td>\n",
              "      <td>0</td>\n",
              "      <td>0</td>\n",
              "      <td>0</td>\n",
              "      <td>0</td>\n",
              "      <td>0</td>\n",
              "      <td>0</td>\n",
              "      <td>low</td>\n",
              "    </tr>\n",
              "  </tbody>\n",
              "</table>\n",
              "</div>"
            ],
            "text/plain": [
              "   satisfaction_level  last_evaluation  ...  department_RandD  salary\n",
              "0                0.38             0.53  ...                 0     low\n",
              "1                0.80             0.86  ...                 0  medium\n",
              "2                0.11             0.88  ...                 0  medium\n",
              "3                0.72             0.87  ...                 0     low\n",
              "4                0.37             0.52  ...                 0     low\n",
              "\n",
              "[5 rows x 19 columns]"
            ]
          },
          "metadata": {
            "tags": []
          },
          "execution_count": 40
        }
      ]
    },
    {
      "cell_type": "markdown",
      "metadata": {
        "id": "NIZaZgdS9QjF"
      },
      "source": [
        "#### **Ordinal Encoder**<br>\n",
        "Necessário para uso da variável qualitativa ordinal `salary` no modelo"
      ]
    },
    {
      "cell_type": "code",
      "metadata": {
        "id": "0--ln64zuIEv",
        "colab": {
          "base_uri": "https://localhost:8080/"
        },
        "outputId": "c9ebb9ae-5036-487c-9920-2bf32a369e30"
      },
      "source": [
        "# Transformando a coluna salary\n",
        "from category_encoders.one_hot import OrdinalEncoder\n",
        "enc = OrdinalEncoder(cols=['salary'])\n",
        "dados = enc.fit_transform(dados)"
      ],
      "execution_count": null,
      "outputs": [
        {
          "output_type": "stream",
          "text": [
            "/usr/local/lib/python3.7/dist-packages/category_encoders/utils.py:21: FutureWarning: is_categorical is deprecated and will be removed in a future version.  Use is_categorical_dtype instead\n",
            "  elif pd.api.types.is_categorical(cols):\n"
          ],
          "name": "stderr"
        }
      ]
    },
    {
      "cell_type": "code",
      "metadata": {
        "colab": {
          "base_uri": "https://localhost:8080/",
          "height": 224
        },
        "id": "5QPsKzyRto5B",
        "outputId": "33c7ebef-cf91-458f-fc3c-ab955fd8a22a"
      },
      "source": [
        "# Visualizando o resultado\n",
        "dados.head()"
      ],
      "execution_count": null,
      "outputs": [
        {
          "output_type": "execute_result",
          "data": {
            "text/html": [
              "<div>\n",
              "<style scoped>\n",
              "    .dataframe tbody tr th:only-of-type {\n",
              "        vertical-align: middle;\n",
              "    }\n",
              "\n",
              "    .dataframe tbody tr th {\n",
              "        vertical-align: top;\n",
              "    }\n",
              "\n",
              "    .dataframe thead th {\n",
              "        text-align: right;\n",
              "    }\n",
              "</style>\n",
              "<table border=\"1\" class=\"dataframe\">\n",
              "  <thead>\n",
              "    <tr style=\"text-align: right;\">\n",
              "      <th></th>\n",
              "      <th>satisfaction_level</th>\n",
              "      <th>last_evaluation</th>\n",
              "      <th>number_project</th>\n",
              "      <th>average_montly_hours</th>\n",
              "      <th>time_spend_company</th>\n",
              "      <th>work_accident</th>\n",
              "      <th>left</th>\n",
              "      <th>promotion_last_5years</th>\n",
              "      <th>department_sales</th>\n",
              "      <th>department_accounting</th>\n",
              "      <th>department_hr</th>\n",
              "      <th>department_technical</th>\n",
              "      <th>department_support</th>\n",
              "      <th>department_management</th>\n",
              "      <th>department_IT</th>\n",
              "      <th>department_product_mng</th>\n",
              "      <th>department_marketing</th>\n",
              "      <th>department_RandD</th>\n",
              "      <th>salary</th>\n",
              "    </tr>\n",
              "  </thead>\n",
              "  <tbody>\n",
              "    <tr>\n",
              "      <th>0</th>\n",
              "      <td>0.38</td>\n",
              "      <td>0.53</td>\n",
              "      <td>2</td>\n",
              "      <td>157</td>\n",
              "      <td>3</td>\n",
              "      <td>0</td>\n",
              "      <td>1</td>\n",
              "      <td>0</td>\n",
              "      <td>1</td>\n",
              "      <td>0</td>\n",
              "      <td>0</td>\n",
              "      <td>0</td>\n",
              "      <td>0</td>\n",
              "      <td>0</td>\n",
              "      <td>0</td>\n",
              "      <td>0</td>\n",
              "      <td>0</td>\n",
              "      <td>0</td>\n",
              "      <td>1</td>\n",
              "    </tr>\n",
              "    <tr>\n",
              "      <th>1</th>\n",
              "      <td>0.80</td>\n",
              "      <td>0.86</td>\n",
              "      <td>5</td>\n",
              "      <td>262</td>\n",
              "      <td>6</td>\n",
              "      <td>0</td>\n",
              "      <td>1</td>\n",
              "      <td>0</td>\n",
              "      <td>1</td>\n",
              "      <td>0</td>\n",
              "      <td>0</td>\n",
              "      <td>0</td>\n",
              "      <td>0</td>\n",
              "      <td>0</td>\n",
              "      <td>0</td>\n",
              "      <td>0</td>\n",
              "      <td>0</td>\n",
              "      <td>0</td>\n",
              "      <td>2</td>\n",
              "    </tr>\n",
              "    <tr>\n",
              "      <th>2</th>\n",
              "      <td>0.11</td>\n",
              "      <td>0.88</td>\n",
              "      <td>7</td>\n",
              "      <td>272</td>\n",
              "      <td>4</td>\n",
              "      <td>0</td>\n",
              "      <td>1</td>\n",
              "      <td>0</td>\n",
              "      <td>1</td>\n",
              "      <td>0</td>\n",
              "      <td>0</td>\n",
              "      <td>0</td>\n",
              "      <td>0</td>\n",
              "      <td>0</td>\n",
              "      <td>0</td>\n",
              "      <td>0</td>\n",
              "      <td>0</td>\n",
              "      <td>0</td>\n",
              "      <td>2</td>\n",
              "    </tr>\n",
              "    <tr>\n",
              "      <th>3</th>\n",
              "      <td>0.72</td>\n",
              "      <td>0.87</td>\n",
              "      <td>5</td>\n",
              "      <td>223</td>\n",
              "      <td>5</td>\n",
              "      <td>0</td>\n",
              "      <td>1</td>\n",
              "      <td>0</td>\n",
              "      <td>1</td>\n",
              "      <td>0</td>\n",
              "      <td>0</td>\n",
              "      <td>0</td>\n",
              "      <td>0</td>\n",
              "      <td>0</td>\n",
              "      <td>0</td>\n",
              "      <td>0</td>\n",
              "      <td>0</td>\n",
              "      <td>0</td>\n",
              "      <td>1</td>\n",
              "    </tr>\n",
              "    <tr>\n",
              "      <th>4</th>\n",
              "      <td>0.37</td>\n",
              "      <td>0.52</td>\n",
              "      <td>2</td>\n",
              "      <td>159</td>\n",
              "      <td>3</td>\n",
              "      <td>0</td>\n",
              "      <td>1</td>\n",
              "      <td>0</td>\n",
              "      <td>1</td>\n",
              "      <td>0</td>\n",
              "      <td>0</td>\n",
              "      <td>0</td>\n",
              "      <td>0</td>\n",
              "      <td>0</td>\n",
              "      <td>0</td>\n",
              "      <td>0</td>\n",
              "      <td>0</td>\n",
              "      <td>0</td>\n",
              "      <td>1</td>\n",
              "    </tr>\n",
              "  </tbody>\n",
              "</table>\n",
              "</div>"
            ],
            "text/plain": [
              "   satisfaction_level  last_evaluation  ...  department_RandD  salary\n",
              "0                0.38             0.53  ...                 0       1\n",
              "1                0.80             0.86  ...                 0       2\n",
              "2                0.11             0.88  ...                 0       2\n",
              "3                0.72             0.87  ...                 0       1\n",
              "4                0.37             0.52  ...                 0       1\n",
              "\n",
              "[5 rows x 19 columns]"
            ]
          },
          "metadata": {
            "tags": []
          },
          "execution_count": 42
        }
      ]
    },
    {
      "cell_type": "markdown",
      "metadata": {
        "id": "DdkzKjXv1gKl"
      },
      "source": [
        "#### **Modeling**"
      ]
    },
    {
      "cell_type": "markdown",
      "metadata": {
        "id": "C9LGt2XHA28x"
      },
      "source": [
        "Variável alvo: satisfaction_level"
      ]
    },
    {
      "cell_type": "code",
      "metadata": {
        "id": "-eXUdGuWA190"
      },
      "source": [
        "# Separando as variáveis entre preditoras e alvo\n",
        "alvo = dados['satisfaction_level']\n",
        "pred = dados.drop('satisfaction_level', axis = 1)"
      ],
      "execution_count": null,
      "outputs": []
    },
    {
      "cell_type": "code",
      "metadata": {
        "id": "PCYm7acpBb8p"
      },
      "source": [
        "# Criando os conjuntos de dados de treino e teste\n",
        "from sklearn.model_selection import train_test_split\n",
        "\n",
        "pred_treino, pred_teste, alvo_treino, alvo_teste = train_test_split(pred, alvo, test_size = 0.2)"
      ],
      "execution_count": null,
      "outputs": []
    },
    {
      "cell_type": "code",
      "metadata": {
        "id": "Dsvyfu_yuroO",
        "colab": {
          "base_uri": "https://localhost:8080/"
        },
        "outputId": "498e11c1-b1bf-4791-d799-823ca9493738"
      },
      "source": [
        "# Criação do modelo\n",
        "from sklearn.ensemble import RandomForestRegressor\n",
        "mdl = RandomForestRegressor(n_estimators=100)\n",
        "mdl.fit(pred_treino, alvo_treino)"
      ],
      "execution_count": null,
      "outputs": [
        {
          "output_type": "execute_result",
          "data": {
            "text/plain": [
              "RandomForestRegressor(bootstrap=True, ccp_alpha=0.0, criterion='mse',\n",
              "                      max_depth=None, max_features='auto', max_leaf_nodes=None,\n",
              "                      max_samples=None, min_impurity_decrease=0.0,\n",
              "                      min_impurity_split=None, min_samples_leaf=1,\n",
              "                      min_samples_split=2, min_weight_fraction_leaf=0.0,\n",
              "                      n_estimators=100, n_jobs=None, oob_score=False,\n",
              "                      random_state=None, verbose=0, warm_start=False)"
            ]
          },
          "metadata": {
            "tags": []
          },
          "execution_count": 48
        }
      ]
    },
    {
      "cell_type": "code",
      "metadata": {
        "id": "_-62B3AF5Pg1",
        "colab": {
          "base_uri": "https://localhost:8080/"
        },
        "outputId": "edfeb112-86ed-49a2-be8f-a9b90e36f72a"
      },
      "source": [
        "# Analisando a importância de cada variável preditora para a geração de valor da variável alvo\n",
        "mdl.feature_importances_"
      ],
      "execution_count": null,
      "outputs": [
        {
          "output_type": "execute_result",
          "data": {
            "text/plain": [
              "array([0.1483042 , 0.35735947, 0.19219647, 0.07278902, 0.01720262,\n",
              "       0.07563951, 0.00416467, 0.01662832, 0.00781849, 0.00710415,\n",
              "       0.01357627, 0.01319564, 0.00567592, 0.01033589, 0.00878181,\n",
              "       0.00813481, 0.00836327, 0.03272947])"
            ]
          },
          "metadata": {
            "tags": []
          },
          "execution_count": 57
        }
      ]
    },
    {
      "cell_type": "code",
      "metadata": {
        "id": "VpIqw9ylvOeC",
        "colab": {
          "base_uri": "https://localhost:8080/"
        },
        "outputId": "db6bacd6-6cf9-4ef1-b3d5-0ca4e163b42c"
      },
      "source": [
        "# Aplicação do modelo para o conjunto de dados teste\n",
        "previsoes = mdl.predict(pred_teste)\n",
        "previsoes"
      ],
      "execution_count": null,
      "outputs": [
        {
          "output_type": "execute_result",
          "data": {
            "text/plain": [
              "array([0.6829, 0.6702, 0.7681, ..., 0.3643, 0.8467, 0.6258])"
            ]
          },
          "metadata": {
            "tags": []
          },
          "execution_count": 58
        }
      ]
    },
    {
      "cell_type": "markdown",
      "metadata": {
        "id": "ORQu4dou1gTD"
      },
      "source": [
        "#### **Evaluation**"
      ]
    },
    {
      "cell_type": "code",
      "metadata": {
        "id": "8lCP1WjPvd43",
        "colab": {
          "base_uri": "https://localhost:8080/"
        },
        "outputId": "715f2075-cab5-481d-c55d-2b4b6898e669"
      },
      "source": [
        "# Avaliação do modelo com MAE\n",
        "from sklearn.metrics import mean_absolute_error\n",
        "mean_absolute_error(alvo_teste, previsoes)"
      ],
      "execution_count": null,
      "outputs": [
        {
          "output_type": "execute_result",
          "data": {
            "text/plain": [
              "0.11892857369047619"
            ]
          },
          "metadata": {
            "tags": []
          },
          "execution_count": 59
        }
      ]
    },
    {
      "cell_type": "code",
      "metadata": {
        "id": "n-5wuAtuvzER",
        "colab": {
          "base_uri": "https://localhost:8080/"
        },
        "outputId": "ad1a1ac3-a12b-4b3a-df1d-97c9ce10ef05"
      },
      "source": [
        "# Verificação e comparação dos resultados dos três primeiros registros do conjunto de dados teste\n",
        "previsoes[0:3]"
      ],
      "execution_count": null,
      "outputs": [
        {
          "output_type": "execute_result",
          "data": {
            "text/plain": [
              "array([0.6829, 0.6702, 0.7681])"
            ]
          },
          "metadata": {
            "tags": []
          },
          "execution_count": 61
        }
      ]
    },
    {
      "cell_type": "code",
      "metadata": {
        "id": "CBxVM7Ufv6jx",
        "colab": {
          "base_uri": "https://localhost:8080/"
        },
        "outputId": "723b9699-2236-426b-e267-58dd754d2f63"
      },
      "source": [
        "alvo_teste[0:3]"
      ],
      "execution_count": null,
      "outputs": [
        {
          "output_type": "execute_result",
          "data": {
            "text/plain": [
              "10953    0.66\n",
              "8391     0.65\n",
              "9966     0.74\n",
              "Name: satisfaction_level, dtype: float64"
            ]
          },
          "metadata": {
            "tags": []
          },
          "execution_count": 60
        }
      ]
    },
    {
      "cell_type": "code",
      "metadata": {
        "id": "MBZjE8QixeMn",
        "colab": {
          "base_uri": "https://localhost:8080/"
        },
        "outputId": "066567a3-bb8d-477f-f0ee-7411c6829526"
      },
      "source": [
        "# Aplicação do modelo em valores que o usuário pode definir livremente\n",
        "previsao_amostras = mdl.predict([[0.63,4,135,2,1,0,0,1,0,0,0,0,0,0,0,0,0,3]])\n",
        "previsao_amostras"
      ],
      "execution_count": null,
      "outputs": [
        {
          "output_type": "execute_result",
          "data": {
            "text/plain": [
              "array([0.7635])"
            ]
          },
          "metadata": {
            "tags": []
          },
          "execution_count": 62
        }
      ]
    },
    {
      "cell_type": "markdown",
      "metadata": {
        "id": "lZpgZiWf1ga8"
      },
      "source": [
        "#### **Final Conclusion**"
      ]
    },
    {
      "cell_type": "markdown",
      "metadata": {
        "id": "k0gKNojhXlnj"
      },
      "source": [
        "O conjunto de dados utilizado para estudo se mostrou de  boa qualidade, no qual não foi necessário grandes intervenções para tratar a base e limpar registros inválidos. Na etapa de limpeza não foram identificadas anomalias, como valores nulos ou inconsistentes, ou ainda discrepâncias que poderiam comprometer a análise como um todo, foram feitos pequenos ajustes como a exclusão do campo `Emp_Id` que identifica um funcionário mas não influenciaria a análise.\n",
        "\n",
        "Em relação aos negócios, algumas questões foram analisadas, como:\n",
        "\n",
        "Existe alguma relação entre a  satisfação  de um funcionário com o número de \n",
        "projetos executados?\n",
        "\n",
        "Nessa questão foi identificada uma correlação negativa, ou seja, a satisfação de um funcionário está, de maneira inversamente proporcional, relacionada ao número de projetos, nos dando algumas ideias que podem ser exploradas pelo setor de Recursos Humanos da empresa, como: esta baixa satisfação do funcionário pode estar ligada à uma sobrecarga de trabalho gerando assim uma insatisfação e por consequência, em uma próxima análise, uma baixa qualidade de serviço.\n",
        "\n",
        "Outra questão analisada foi: existe correlação entre a satisfação de um funcionário com o fato dele ser ou não promovido nos últimos 5 anos?\n",
        "\n",
        "Nesse caso, tivemos uma correlação positiva, mas não tão satisfatória como prevíamos, pois obtivemos um índice relativamente baixo, igual a 0.025. Este valor obtido  significa que não existe um único fator decisivo nessa amostra de dados, e sim uma combinação de variáveis que contribui para a satisfação do funcionário.\n",
        "\n",
        "Por ultimo, concluímos que o algoritmo desenvolvido pode **auxiliar tomadores de decisão a planejar políticas de RH** visando o aumento dos índices de satisfação de colaboradores, tempo de empresa, e redução de turn-over. Com as  análises geradas por esse algoritmo também é possível auxiliar no planejamento de políticas de recrutamento e a melhoria contínua dos profissionais da companhia."
      ]
    }
  ]
}